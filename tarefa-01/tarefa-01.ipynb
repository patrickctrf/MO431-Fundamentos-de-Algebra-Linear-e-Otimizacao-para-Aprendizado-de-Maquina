{
 "cells": [
  {
   "cell_type": "markdown",
   "metadata": {},
   "source": [
    "# Tarefa-01. MO431\n",
    "## Patrick de Carvalho Tavares Rezende Ferreira - 175480\n",
    "\n",
    "Repositório no GitHub: https://github.com/patrickctrf/MO431-Fundamentos-de-Algebra-Linear-e-Otimizacao-para-Aprendizado-de-Maquina"
   ]
  },
  {
   "cell_type": "code",
   "execution_count": 46,
   "metadata": {},
   "outputs": [],
   "source": [
    "# Imports\n",
    "import numpy as np\n",
    "import matplotlib.pyplot as plt\n",
    "from matplotlib import cm\n",
    "from sklearn.decomposition import TruncatedSVD\n",
    "\n",
    "%matplotlib inline"
   ]
  },
  {
   "cell_type": "markdown",
   "metadata": {},
   "source": [
    "Primeiramente, importamos a matriz com os conteúdos originais."
   ]
  },
  {
   "cell_type": "code",
   "execution_count": 47,
   "metadata": {},
   "outputs": [],
   "source": [
    "# A matriz X precisa estar no mesmo diretório do código sendo executado para ser importada.\n",
    "X = np.load(\"X.npy\")"
   ]
  },
  {
   "cell_type": "markdown",
   "metadata": {},
   "source": [
    "Exibindo a primeira imagem antes da decomposição em SVD."
   ]
  },
  {
   "cell_type": "code",
   "execution_count": 48,
   "metadata": {},
   "outputs": [
    {
     "data": {
      "image/png": "[encoded data removed]",
      "text/plain": [
       "<Figure size 432x288 with 1 Axes>"
      ]
     },
     "metadata": {
      "needs_background": "light"
     },
     "output_type": "display_data"
    }
   ],
   "source": [
    "plt.imshow(X[0].reshape(50, 37), cmap=cm.gray)\n",
    "plt.show()"
   ]
  },
  {
   "cell_type": "markdown",
   "metadata": {},
   "source": [
    "Com o modo \"full_matrices\" == True, fazemos a fatoração SVD que chamamos de \"full matrix\", que resulta em matrizes U(mxm), D(mxn) e V^-1(nxn). Como a API do numpy retorna apenas os elementos da diagonal principal da matriz D, fazemos abaixo o preenchimento desta matriz e imprimimos o formato resultante de cada uma."
   ]
  },
  {
   "cell_type": "code",
   "execution_count": 49,
   "metadata": {},
   "outputs": [
    {
     "name": "stdout",
     "output_type": "stream",
     "text": [
      "\n",
      "Formatos das matrizes SVD padrão\n",
      "Matriz U:  (3023, 3023)\n",
      "Matriz D:  (3023, 1850)\n",
      "Matriz V^-1:  (1850, 1850)\n"
     ]
    }
   ],
   "source": [
    "U, D, Vh = np.linalg.svd(X, full_matrices=True)\n",
    "\n",
    "# Para comportar a matriz recuperada \"D\", precisa ser multiplicavel pelo numero\n",
    "# de colunas de U e numero de linhas de Vh.\n",
    "matrix_auxiliar = np.zeros((U.shape[1], Vh.shape[0]))\n",
    "\n",
    "# Substituimos a diagonal principal pelos devido elementos do vetor D para\n",
    "# retomar a matriz D esparsa.\n",
    "for i in range(min(matrix_auxiliar.shape)):\n",
    "    matrix_auxiliar[i][i] = D[i]\n",
    "\n",
    "# Retomamaos a matriz D.\n",
    "D = matrix_auxiliar\n",
    "\n",
    "print(\"\\nFormatos das matrizes SVD padrão\")\n",
    "print(\"Matriz U: \", str(U.shape))\n",
    "print(\"Matriz D: \", str(D.shape))\n",
    "print(\"Matriz V^-1: \", str(Vh.shape))"
   ]
  },
  {
   "cell_type": "markdown",
   "metadata": {},
   "source": [
    "Precisamos verificar o erro da reconstrução após a decomposição em SVD. Calculamos e exibimos abaixo o erro máximo e médio da representação em SVD \"full matrices\"."
   ]
  },
  {
   "cell_type": "code",
   "execution_count": 50,
   "metadata": {},
   "outputs": [
    {
     "name": "stdout",
     "output_type": "stream",
     "text": [
      "\n",
      "Máximo Erro SVD Padrão: 2.7038279569069346e-05\n",
      "Erro Médio SVD Padrão: 6.174903342868209e-06\n",
      "Razão entre Máximo Erro e Erro Médio SVD Padrão: 4.37873729639794\n"
     ]
    }
   ],
   "source": [
    "# Calculamos a diferenca entre cada elemento da matriz original e da matriz\n",
    "# reconstruida a partir do SVD compacto.\n",
    "matriz_de_diferencas = X - np.matmul(np.matmul(U, D), Vh)\n",
    "\n",
    "print(\"\\nMáximo Erro SVD Padrão: \" + str(np.absolute(matriz_de_diferencas).max()))\n",
    "print(\"Erro Médio SVD Padrão: \" + str(np.absolute(matriz_de_diferencas).mean()))\n",
    "print(\"Razão entre Máximo Erro e Erro Médio SVD Padrão: \" + str(np.absolute(matriz_de_diferencas).max() / np.absolute(matriz_de_diferencas).mean()))\n"
   ]
  },
  {
   "cell_type": "markdown",
   "metadata": {},
   "source": [
    "Abaixo computamos a matriz reduzida a partir do SVD full matrices (Uk*Dk), onde Uk é uma matriz com apenas as 100 primeiras colunas de U e Dk é uma matriz com apenas as 100 primeiras linhas e 100 primeiras colunas de D."
   ]
  },
  {
   "cell_type": "code",
   "execution_count": 51,
   "metadata": {},
   "outputs": [
    {
     "name": "stdout",
     "output_type": "stream",
     "text": [
      "\n",
      "Formato da matriz reduzida SVD full matrices: (3023, 100)\n"
     ]
    }
   ],
   "source": [
    "k = 100\n",
    "matriz_reduzida_full_matrices = np.matmul(U[:, :k], D[:k, :k])\n",
    "\n",
    "print(\"\\nFormato da matriz reduzida SVD full matrices: \" + str(matriz_reduzida_full_matrices.shape))\n"
   ]
  },
  {
   "cell_type": "markdown",
   "metadata": {},
   "source": [
    "E, multiplicando a matriz reduzida pela matriz Vk^-1 (apenas as 100 primeiras linhas de V^-1), reconstruímos a matrix original com perdas (linhas e colunas das matrizes SVD originais foram removidas)."
   ]
  },
  {
   "cell_type": "code",
   "execution_count": 52,
   "metadata": {},
   "outputs": [
    {
     "name": "stdout",
     "output_type": "stream",
     "text": [
      "\n",
      "Formato da matriz reconstruida SVD full matrices: (3023, 1850)\n"
     ]
    }
   ],
   "source": [
    "matriz_reconstruida_full_matrices = np.matmul(matriz_reduzida_full_matrices, Vh[:k, :])\n",
    "\n",
    "print(\"\\nFormato da matriz reconstruida SVD full matrices: \" + str(matriz_reconstruida_full_matrices.shape))"
   ]
  },
  {
   "cell_type": "markdown",
   "metadata": {},
   "source": [
    "Nota-se que o erro de representação é pequeno, sendo, em média dos valores absolutos, da ordem de de 10^-6. O valor máximo da diferença, em absoluto, é de 2.703829574102201e-05."
   ]
  },
  {
   "cell_type": "markdown",
   "metadata": {},
   "source": [
    "Com o modo \"full_matrices\" == False, fazemos a fatoração SVD que chamamos de compacta, que resulta em matrizes U(mxn), D(nxn) e V^-1(nxn). Como a API do numpy retorna apenas os elementos da diagonal principal da matriz D, fazemos abaixo o preenchimento desta matriz e imprimimos o formato resultante de cada uma."
   ]
  },
  {
   "cell_type": "code",
   "execution_count": 53,
   "metadata": {},
   "outputs": [
    {
     "name": "stdout",
     "output_type": "stream",
     "text": [
      "\n",
      "Formatos das matrizes SVD Compacto\n",
      "Matriz U:  (3023, 1850)\n",
      "Matriz D:  (1850, 1850)\n",
      "Matriz V^-1:  (1850, 1850)\n"
     ]
    }
   ],
   "source": [
    "U, D, Vh = np.linalg.svd(X, full_matrices=False)\n",
    "\n",
    "# Para comportar a matriz recuperada \"D\", precisa ser multiplicavel pelo numero\n",
    "# de colunas de U e numero de linhas de Vh.\n",
    "matrix_auxiliar = np.zeros((U.shape[1], Vh.shape[0]))\n",
    "\n",
    "# Substituimos a diagonal principal pelos devido elementos do vetor D para\n",
    "# retomar a matriz D esparsa.\n",
    "for i in range(min(matrix_auxiliar.shape)):\n",
    "    matrix_auxiliar[i][i] = D[i]\n",
    "\n",
    "# Retomamaos a matriz D.\n",
    "D = matrix_auxiliar\n",
    "\n",
    "print(\"\\nFormatos das matrizes SVD Compacto\")\n",
    "print(\"Matriz U: \", str(U.shape))\n",
    "print(\"Matriz D: \", str(D.shape))\n",
    "print(\"Matriz V^-1: \", str(Vh.shape))"
   ]
  },
  {
   "cell_type": "markdown",
   "metadata": {},
   "source": [
    "Precisamos verificar o erro da reconstrução após a decomposição em SVD. Calculamos e exibimos abaixo o erro máximo e médio da representação em SVD compacta."
   ]
  },
  {
   "cell_type": "code",
   "execution_count": 54,
   "metadata": {},
   "outputs": [
    {
     "name": "stdout",
     "output_type": "stream",
     "text": [
      "\n",
      "Máximo Erro SVD Compacto: 2.7038279569069346e-05\n",
      "Erro Médio SVD Compacto: 6.174903342868209e-06\n",
      "Razão entre Máximo Erro e Erro Médio SVD Compacto: 4.37873729639794\n"
     ]
    }
   ],
   "source": [
    "# Calculamos a diferenca entre cada elemento da matriz original e da matriz\n",
    "# reconstruida a partir do SVD compacto.\n",
    "matriz_de_diferencas = X - np.matmul(np.matmul(U, D), Vh)\n",
    "\n",
    "print(\"\\nMáximo Erro SVD Compacto: \" + str(np.absolute(matriz_de_diferencas).max()))\n",
    "print(\"Erro Médio SVD Compacto: \" + str(np.absolute(matriz_de_diferencas).mean()))\n",
    "print(\"Razão entre Máximo Erro e Erro Médio SVD Compacto: \" + str(np.absolute(matriz_de_diferencas).max() / np.absolute(matriz_de_diferencas).mean()))\n"
   ]
  },
  {
   "cell_type": "markdown",
   "metadata": {},
   "source": [
    "Nota-se que o erro de representação é pequeno, sendo, em média dos valores absolutos, da ordem de de 10^-6 (sempre em comparação com. O valor máximo da diferença, em absoluto, é de 2.703829574102201e-05.\n",
    "\n",
    "Nota-se que o erro de representação do SVD convencional e do SVD compacto é praticamente o mesmo, havendo diferença na décima casa decimal quando se compara suas respectivas razões de seus erros máximo e médio (Razão entre Máximo Erro e Erro Médio).\n",
    "\n",
    "A Razão entre Máximo Erro e Erro Médio de ambas as representações foi de aproximadamente 4,38 vezes. Considerando que o erro máximo é pequeno (da ordem de 10^-5), isto significa que os demais erros de cada elemento foram ainda menores e que a representação em SVD nas duas formulações rendeu reconstruções para valores próximos aos originais."
   ]
  },
  {
   "cell_type": "markdown",
   "metadata": {},
   "source": [
    "Abaixo computamos a matriz reduzida a partir do svd compacto (Uk*Dk), onde Uk é uma matriz com apenas as 100 primeiras colunas de U e Dk é uma matriz com apenas as 100 primeiras linhas e 100 primeiras colunas de D."
   ]
  },
  {
   "cell_type": "code",
   "execution_count": 55,
   "metadata": {},
   "outputs": [
    {
     "name": "stdout",
     "output_type": "stream",
     "text": [
      "\n",
      "Formato da matriz reduzida a partir do SVD compacto: (3023, 100)\n"
     ]
    }
   ],
   "source": [
    "k = 100\n",
    "matriz_reduzida_svd_compacto = np.matmul(U[:, :k], D[:k, :k])\n",
    "\n",
    "print(\"\\nFormato da matriz reduzida a partir do SVD compacto: \" + str(matriz_reduzida_svd_compacto.shape))"
   ]
  },
  {
   "cell_type": "markdown",
   "metadata": {},
   "source": [
    "E, multiplicando a matriz reduzida pela matriz Vk^-1 (apenas as 100 primeiras linhas de V^-1), reconstruímos a matrix original com perdas (linhas e colunas das matrizes SVD originais foram removidas)."
   ]
  },
  {
   "cell_type": "code",
   "execution_count": 56,
   "metadata": {},
   "outputs": [
    {
     "name": "stdout",
     "output_type": "stream",
     "text": [
      "\n",
      "Formato da matriz reconstruida a partir do SVD compacto: (3023, 1850)\n"
     ]
    }
   ],
   "source": [
    "matriz_reconstruida_svd_compacto = np.matmul(matriz_reduzida_svd_compacto, Vh[:k, :])\n",
    "\n",
    "print(\"\\nFormato da matriz reconstruida a partir do SVD compacto: \" + str(matriz_reconstruida_svd_compacto.shape))\n"
   ]
  },
  {
   "cell_type": "markdown",
   "metadata": {},
   "source": [
    "A primeira imagem da matriz reconstruída a partir do SVD com matriz reduzida é exibida abaixo e é bastante similar à primeira imagem da matriz original. Entretanto, nota-se claramente certa perda de qualidade."
   ]
  },
  {
   "cell_type": "code",
   "execution_count": 57,
   "metadata": {},
   "outputs": [
    {
     "data": {
      "image/png": "[encoded data removed]",
      "text/plain": [
       "<Figure size 432x288 with 1 Axes>"
      ]
     },
     "metadata": {
      "needs_background": "light"
     },
     "output_type": "display_data"
    }
   ],
   "source": [
    "plt.imshow(matriz_reconstruida_full_matrices[0].reshape(50, 37), cmap=cm.gray)\n",
    "plt.show()"
   ]
  },
  {
   "cell_type": "markdown",
   "metadata": {},
   "source": [
    "Abaixo fazemos a comparação de qual método SVD (full matrices ou compacto) utilizar para obter um melhor resultado no momento da reconstrução da matriz original, embora ambas as imagens reconstruídas tenham ficado bem semelhantes. Nota-se que os erros obtidos durante a reconstrução foram baixos, tal que sequer foram notados nos cálculos exibindo até 14 casas decimais."
   ]
  },
  {
   "cell_type": "code",
   "execution_count": 58,
   "metadata": {},
   "outputs": [
    {
     "name": "stdout",
     "output_type": "stream",
     "text": [
      "\n",
      "Máximo Erro SVD Compacto: 136.08741228750995\n",
      "Erro Médio SVD Compacto: 8.148400493978869\n",
      "\n",
      "Máximo Erro SVD Compacto: 136.08741228750995\n",
      "Erro Médio SVD Compacto: 8.148400493978869\n"
     ]
    }
   ],
   "source": [
    "# Calculamos a diferenca entre cada elemento da matriz original e da matriz\n",
    "# reconstruida a partir de cada SVD\n",
    "matriz_de_diferencas_svd_full_matrices = X - matriz_reconstruida_full_matrices\n",
    "matriz_de_diferencas_svd_compacto = X - matriz_reconstruida_svd_compacto\n",
    "\n",
    "print(\"\\nMáximo Erro SVD Compacto: \" + str(np.absolute(matriz_de_diferencas_svd_full_matrices).max()))\n",
    "print(\"Erro Médio SVD Compacto: \" + str(np.absolute(matriz_de_diferencas_svd_full_matrices).mean()))\n",
    "\n",
    "print(\"\\nMáximo Erro SVD Compacto: \" + str(np.absolute(matriz_de_diferencas_svd_compacto).max()))\n",
    "print(\"Erro Médio SVD Compacto: \" + str(np.absolute(matriz_de_diferencas_svd_compacto).mean()))"
   ]
  },
  {
   "cell_type": "markdown",
   "metadata": {},
   "source": [
    "Abaixo realizamos a decomposição em SVD através da API TruncatedSVD do sklearn com 100 componentes. Fazemos a reconstrução e exibimos as dimensões da matriz reduzida e de V^-1. "
   ]
  },
  {
   "cell_type": "code",
   "execution_count": 59,
   "metadata": {},
   "outputs": [
    {
     "name": "stdout",
     "output_type": "stream",
     "text": [
      "\n",
      "Formatos das matrizes TruncatedSVD\n",
      "Matriz reduzida (UD):  (3023, 100)\n",
      "Matriz V^-1:  (100, 1850)\n"
     ]
    }
   ],
   "source": [
    "# Inicia/Gera o modelo do SVD, mas so faz calculo dps do \"fit\"\n",
    "svd = TruncatedSVD(n_components=100, n_iter=7, random_state=42)\n",
    "\n",
    "# Podemos obter a matriz reduzida (U*D).\n",
    "matriz_reduzida_UD = svd.fit_transform(X)\n",
    "# Tambem desnecessario, so pra obter a matriz V^-1\n",
    "Vh = svd.components_\n",
    "\n",
    "# Gera REALMENTE as matrizes do SVD (nem tinhamos passado a matriz original ate\n",
    "# aqui).\n",
    "svd.fit(X)\n",
    "\n",
    "# Recupera a matrix original apos ter convertido para o SVD.\n",
    "matriz_reconstruida_sklearn = svd.inverse_transform(matriz_reduzida_UD)\n",
    "\n",
    "print(\"\\nFormatos das matrizes TruncatedSVD\")\n",
    "print(\"Matriz reduzida (UD): \", str(matriz_reduzida_UD.shape))\n",
    "print(\"Matriz V^-1: \", str(Vh.shape))"
   ]
  },
  {
   "cell_type": "markdown",
   "metadata": {},
   "source": [
    "Calculamos abaixo o erro na representação a partir do TruncatedSVD. O erro é consideravelmente maior que nos casos sem perda, como era de se esperar, havendo erro máximo de 137 para o pixel mais afetado, mas ainda assim o erro médio é de 8,15, 16 vezes menor."
   ]
  },
  {
   "cell_type": "code",
   "execution_count": 60,
   "metadata": {},
   "outputs": [
    {
     "name": "stdout",
     "output_type": "stream",
     "text": [
      "\n",
      "Máximo Erro TruncatedSVD do sklearn: 137.51453\n",
      "Erro Médio TruncatedSVD do sklearn: 8.152535\n",
      "Razão entre Máximo Erro e Erro Médio TruncatedSVD do sklearn: 16.8677\n"
     ]
    }
   ],
   "source": [
    "# Calculamos a diferenca entre cada elemento da matriz original e da matriz\n",
    "# reconstruida a partir do TruncatedSVD do sklearn.\n",
    "matriz_de_diferencas = X - matriz_reconstruida_sklearn\n",
    "\n",
    "print(\"\\nMáximo Erro TruncatedSVD do sklearn: \" + str(np.absolute(matriz_de_diferencas).max()))\n",
    "print(\"Erro Médio TruncatedSVD do sklearn: \" + str(np.absolute(matriz_de_diferencas).mean()))\n",
    "print(\"Razão entre Máximo Erro e Erro Médio TruncatedSVD do sklearn: \" + str(np.absolute(matriz_de_diferencas).max() / np.absolute(matriz_de_diferencas).mean()))\n"
   ]
  },
  {
   "cell_type": "markdown",
   "metadata": {},
   "source": [
    "Abaixo fazemos a impressão da primeira imagem da matriz reconstruída. Nota-se que ela manteve a similaridade, mas possui certa perda de informação, como era de se esperar."
   ]
  },
  {
   "cell_type": "code",
   "execution_count": 61,
   "metadata": {},
   "outputs": [
    {
     "data": {
      "image/png": "[encoded data removed]",
      "text/plain": [
       "<Figure size 432x288 with 1 Axes>"
      ]
     },
     "metadata": {
      "needs_background": "light"
     },
     "output_type": "display_data"
    }
   ],
   "source": [
    "plt.imshow(matriz_reconstruida_sklearn[0].reshape(50, 37), cmap=cm.gray)\n",
    "plt.show()"
   ]
  }
 ],
 "metadata": {
  "kernelspec": {
   "display_name": "Python 3",
   "language": "python",
   "name": "python3"
  },
  "language_info": {
   "codemirror_mode": {
    "name": "ipython",
    "version": 3
   },
   "file_extension": ".py",
   "mimetype": "text/x-python",
   "name": "python",
   "nbconvert_exporter": "python",
   "pygments_lexer": "ipython3",
   "version": "3.6.9"
  }
 },
 "nbformat": 4,
 "nbformat_minor": 2
}
